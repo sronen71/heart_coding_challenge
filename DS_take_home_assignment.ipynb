{
 "cells": [
  {
   "cell_type": "markdown",
   "metadata": {},
   "source": [
    "# Packages"
   ]
  },
  {
   "cell_type": "markdown",
   "metadata": {},
   "source": [
    "Below are the packages required for this assignment, feel free to import more if needed."
   ]
  },
  {
   "cell_type": "code",
   "execution_count": null,
   "metadata": {
    "collapsed": true
   },
   "outputs": [],
   "source": [
    "import time\n",
    "import zarr\n",
    "import numpy as np\n",
    "from IPython.display import IFrame\n",
    "import matplotlib.pyplot as plt\n",
    "\n",
    "%matplotlib inline"
   ]
  },
  {
   "cell_type": "markdown",
   "metadata": {},
   "source": [
    "# 1 - Data inspection / preprocessing"
   ]
  },
  {
   "cell_type": "markdown",
   "metadata": {},
   "source": [
    "## 1.1 - Load the sample data\n",
    "You are given a sample CT volume and its annotation for several heart structures in the data folder:\n",
    "- `sample_CT_volume.zarr.zip` contains the CT volume and the xy spacing / z spacing of this scan\n",
    "- `sample_annotation.zarr.zip` contains the annotation mask and the label information\n",
    "- This CT volume is of shape (256, 512, 512) corresponding to axes (z, y, x)\n",
    "- The annotation is a multi-class mask where each voxel value indicates the annotated label\n",
    "\n",
    "Load the data by running the code below."
   ]
  },
  {
   "cell_type": "code",
   "execution_count": null,
   "metadata": {
    "collapsed": true
   },
   "outputs": [],
   "source": [
    "# load the data\n",
    "with zarr.open('./data/sample_CT_volume.zarr.zip', mode='r') as z:\n",
    "    ct_volume = z['image'][:]\n",
    "    xy_spacing = z.attrs['xy_spacing']\n",
    "    z_spacing = z.attrs['z_spacing']\n",
    "    \n",
    "with zarr.open('./data/sample_annotation.zarr.zip', mode='r') as z:\n",
    "    mask = z['mask'][:]\n",
    "    classes = z.attrs['classes']"
   ]
  },
  {
   "cell_type": "code",
   "execution_count": null,
   "metadata": {
    "scrolled": true
   },
   "outputs": [],
   "source": [
    "# explore the data\n",
    "print(f'CT volume dimension: {ct_volume.shape}')\n",
    "print(f'CT xy spacing: {xy_spacing}mm')\n",
    "print(f'CT z spacing: {z_spacing}mm')\n",
    "print('Labels:', classes)"
   ]
  },
  {
   "cell_type": "markdown",
   "metadata": {},
   "source": [
    "<img src='./vis/image_and_annotation.png'>\n",
    "<caption><center>One sample slice and its annotation in the axial view</center></caption>"
   ]
  },
  {
   "cell_type": "markdown",
   "metadata": {},
   "source": [
    "## 1.2 - Image resizing\n",
    "Since the CT scan usually comes in anisotropic dimension with different spacings, it's sometimes required to resize them into isotropic volume for further steps. \n",
    "- The first task you are asked to do is to resize the given CT volume into an isotropic one with 1mm spacing\n",
    "- Resize the annotation mask as well into an isotropic volume with 1mm spacing\n",
    "- Please complete the functions in the cell below, you can call any function from any librarie and feel free to add helper functions as you see fit\n",
    "- Run and time the functions to resize the volumes"
   ]
  },
  {
   "cell_type": "code",
   "execution_count": null,
   "metadata": {
    "collapsed": true
   },
   "outputs": [],
   "source": [
    "# RESIZING FUNCTIONS\n",
    "\n",
    "def resize_ct_volume(ct_volume, xy_spacing, z_spacing, out_xy_spacing=1, out_z_spacing=1):\n",
    "    \"\"\"\n",
    "    Arguments:\n",
    "    ct_volume -- the 3D image of a CT scan\n",
    "    xy_spacing -- original xy spacing of the scan\n",
    "    z_spacing -- original z spacing of the scan\n",
    "    out_xy_spacing -- xy spacing of the target volume\n",
    "    out_z_spacing -- z spacing of the target volume\n",
    "    \n",
    "    Returns:\n",
    "    new_volume -- the target volume \n",
    "    \"\"\"\n",
    "    \n",
    "    # YOUR CODE HERE\n",
    "    \n",
    "    return new_volume\n",
    "\n",
    "\n",
    "def resize_annotation(mask, xy_spacing, z_spacing, out_xy_spacing=1, out_z_spacing=1):\n",
    "    \"\"\"\n",
    "    Arguments:\n",
    "    mask -- the 3D multi-class annotation mask of a CT scan\n",
    "    xy_spacing -- original xy spacing of the mask\n",
    "    z_spacing -- original z spacing of the mask\n",
    "    out_xy_spacing -- xy spacing of the target mask\n",
    "    out_z_spacing -- z spacing of the target mask\n",
    "    \n",
    "    Returns:\n",
    "    new_mask -- the target mask\n",
    "    \"\"\"\n",
    "    \n",
    "    # YOUR CODE HERE\n",
    "        \n",
    "    return new_mask"
   ]
  },
  {
   "cell_type": "markdown",
   "metadata": {},
   "source": [
    "<img src='./vis/original_vs_isotropic.png'>\n",
    "<caption><center>The original image and the resized result of one sample slice in the sagittal view</center></caption>"
   ]
  },
  {
   "cell_type": "markdown",
   "metadata": {},
   "source": [
    "## 1.3 - 3D visualization\n",
    "Now you have the resized ct volume and the annotation mask, could you come up with any way(s) to inspect the data in 3D?\n",
    "- Run the cell below to see an example generated with Plotly in which the contour points on each slice are plotted for each annotated structure\n",
    "- Note that since the origin lies at the bottom in this visualization, the mask has been reversed in z axis so that the heart doesn't look upside down\n",
    "- You can either visualize the ct volume or the annotation mask, or both. You can also replicate the example provided"
   ]
  },
  {
   "cell_type": "code",
   "execution_count": null,
   "metadata": {},
   "outputs": [],
   "source": [
    "IFrame(src='./vis/3D_vis.html', width=700, height=600)"
   ]
  },
  {
   "cell_type": "code",
   "execution_count": null,
   "metadata": {
    "collapsed": true
   },
   "outputs": [],
   "source": [
    "# YOUR VIS CODE AND OUTPUT HERE"
   ]
  },
  {
   "cell_type": "markdown",
   "metadata": {},
   "source": [
    "# 2 - Sum kernel\n",
    "Suppose we have a 2D image and would apply a simple kernel repeatedly with different sizes on it to take the sum of all pixels within the kernel. Write a function to efficiently calculate the sum. The image below shows an example image and kernels with different sizes in different colors.\n",
    "- The kernel will be defined by its upper left `(row1, col1)` and lower right corner `(row2, col2)`\n",
    "- Please complete the function in the cell below and add some test cases\n",
    "- Discuss the time and space complexity for the approach you take\n",
    "\n",
    "***Example:***\n",
    "```python\n",
    "image = np.array([[1, 2, 3], \n",
    "                  [4, 5, 6], \n",
    "                  [7, 8, 9]])\n",
    "\n",
    "query_image = Image(image)\n",
    "kernel_sum = query_image.calculate(0, 1, 1, 2) # kernel_sum = 2 + 3 + 5 + 6 = 16\n",
    "```"
   ]
  },
  {
   "cell_type": "markdown",
   "metadata": {},
   "source": [
    "<img src='./vis/sum_grid.jpeg'>"
   ]
  },
  {
   "cell_type": "code",
   "execution_count": null,
   "metadata": {
    "collapsed": true
   },
   "outputs": [],
   "source": [
    "# SUM KERNEL\n",
    "\n",
    "class Image:\n",
    "    \n",
    "    def __init__(self, image):\n",
    "        self.image = image\n",
    "        \n",
    "        # YOUR CODE HERE\n",
    "\n",
    "\n",
    "    def calculate_kernel_sum(self, row1, col1, row2, col2):\n",
    "\n",
    "        # YOUR CODE HERE\n",
    "\n",
    "        return kernel_sum"
   ]
  }
 ],
 "metadata": {
  "kernelspec": {
   "display_name": "Python 3",
   "language": "python",
   "name": "python3"
  },
  "language_info": {
   "codemirror_mode": {
    "name": "ipython",
    "version": 3
   },
   "file_extension": ".py",
   "mimetype": "text/x-python",
   "name": "python",
   "nbconvert_exporter": "python",
   "pygments_lexer": "ipython3",
   "version": "3.6.5"
  }
 },
 "nbformat": 4,
 "nbformat_minor": 4
}
