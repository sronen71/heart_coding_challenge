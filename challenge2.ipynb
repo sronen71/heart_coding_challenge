{
 "cells": [
  {
   "cell_type": "markdown",
   "metadata": {},
   "source": [
    "# Packages"
   ]
  },
  {
   "cell_type": "markdown",
   "metadata": {},
   "source": [
    "Below are the packages required for this assignment, feel free to import more if needed."
   ]
  },
  {
   "cell_type": "code",
   "execution_count": 31,
   "metadata": {
    "tags": []
   },
   "outputs": [],
   "source": [
    "import time\n",
    "import zarr\n",
    "import numpy as np\n",
    "from IPython.display import IFrame\n",
    "import matplotlib.pyplot as plt\n",
    "from scipy import ndimage\n",
    "import SimpleITK as sitk\n",
    "%matplotlib inline"
   ]
  },
  {
   "cell_type": "markdown",
   "metadata": {},
   "source": [
    "# 1 - Data inspection / preprocessing"
   ]
  },
  {
   "cell_type": "markdown",
   "metadata": {},
   "source": [
    "## 1.1 - Load the sample data\n",
    "You are given a sample CT volume and its annotation for several heart structures in the data folder:\n",
    "- `sample_CT_volume.zarr.zip` contains the CT volume and the xy spacing / z spacing of this scan\n",
    "- `sample_annotation.zarr.zip` contains the annotation mask and the label information\n",
    "- This CT volume is of shape (256, 512, 512) corresponding to axes (z, y, x)\n",
    "- The annotation is a multi-class mask where each voxel value indicates the annotated label\n",
    "\n",
    "Load the data by running the code below."
   ]
  },
  {
   "cell_type": "code",
   "execution_count": 32,
   "metadata": {},
   "outputs": [],
   "source": [
    "# load the data\n",
    "with zarr.open('./data/sample_CT_volume.zarr.zip', mode='r') as z:\n",
    "    ct_volume = z['image'][:]\n",
    "    xy_spacing = z.attrs['xy_spacing']\n",
    "    z_spacing = z.attrs['z_spacing']\n",
    "    \n",
    "with zarr.open('./data/sample_annotation.zarr.zip', mode='r') as z:\n",
    "    mask = z['mask'][:]\n",
    "    classes = z.attrs['classes']"
   ]
  },
  {
   "cell_type": "code",
   "execution_count": 33,
   "metadata": {
    "scrolled": true
   },
   "outputs": [
    {
     "name": "stdout",
     "output_type": "stream",
     "text": [
      "CT volume dimension: (256, 512, 512)\n",
      "CT xy spacing: 0.398438mm\n",
      "CT z spacing: 0.625mm\n",
      "Labels: {'0': 'background', '1': 'left ventricular volume', '2': 'left ventricular wall', '3': 'right ventricular volume', '4': 'right atrial volume', '5': 'left atrial volume'}\n"
     ]
    }
   ],
   "source": [
    "# explore the data\n",
    "print(f'CT volume dimension: {ct_volume.shape}')\n",
    "print(f'CT xy spacing: {xy_spacing}mm')\n",
    "print(f'CT z spacing: {z_spacing}mm')\n",
    "print('Labels:', classes)"
   ]
  },
  {
   "cell_type": "markdown",
   "metadata": {},
   "source": [
    "<img src='./vis/image_and_annotation.png'>\n",
    "<caption><center>One sample slice and its annotation in the axial view</center></caption>"
   ]
  },
  {
   "cell_type": "markdown",
   "metadata": {},
   "source": [
    "## 1.2 - Image resizing\n",
    "Since the CT scan usually comes in anisotropic dimension with different spacings, it's sometimes required to resize them into isotropic volume for further steps. \n",
    "- The first task you are asked to do is to resize the given CT volume into an isotropic one with 1mm spacing\n",
    "- Resize the annotation mask as well into an isotropic volume with 1mm spacing\n",
    "- Please complete the functions in the cell below, you can call any function from any librarie and feel free to add helper functions as you see fit\n",
    "- Run and time the functions to resize the volumes"
   ]
  },
  {
   "cell_type": "code",
   "execution_count": 34,
   "metadata": {},
   "outputs": [
    {
     "name": "stdout",
     "output_type": "stream",
     "text": [
      "CT resample timing 425.6 ms.\n",
      "Annotation resample timing 123.0 ms.\n"
     ]
    },
    {
     "data": {
      "text/plain": [
       "<matplotlib.image.AxesImage at 0x7f3d5f25ef98>"
      ]
     },
     "execution_count": 34,
     "metadata": {},
     "output_type": "execute_result"
    },
    {
     "data": {
      "image/png": "[encoded data removed]",
      "text/plain": [
       "<Figure size 432x288 with 2 Axes>"
      ]
     },
     "metadata": {
      "needs_background": "light"
     },
     "output_type": "display_data"
    }
   ],
   "source": [
    "# RESIZING FUNCTIONS\n",
    "# We implemented two resampling methods. One using Simple ITK, the other using scipy ndimage.\n",
    "# It looks like ndimage is faster.\n",
    "\n",
    "# resmaple using simple itk\n",
    "# only orders 0,1 are currently supported\n",
    "def resize_sitk(image,xy_spacing,z_spacing,out_xy_spacing=1,out_z_spacing=1,order=1):\n",
    "    image_sitk = sitk.GetImageFromArray(image)   # Convert to ITK object\n",
    "    orig_spacing=[xy_spacing,xy_spacing,z_spacing]\n",
    "    image_sitk.SetSpacing(orig_spacing)\n",
    "    resample = sitk.ResampleImageFilter()\n",
    "    resample.SetTransform(sitk.Transform())\n",
    "    if order == 0:\n",
    "        resample.SetInterpolator = sitk.sitkNearestNeighbor\n",
    "    if order == 1:\n",
    "        resample.SetInterpolator = sitk.sitkLinear\n",
    "    \n",
    "    \n",
    "    resample.SetOutputDirection = image_sitk.GetDirection()\n",
    "    resample.SetOutputOrigin = image_sitk.GetOrigin()\n",
    "    resample.SetDefaultPixelValue(image_sitk.GetPixelIDValue())\n",
    "    new_spacing = [out_xy_spacing, out_xy_spacing,out_z_spacing]\n",
    "    resample.SetOutputSpacing(new_spacing)\n",
    "    orig_size = image.shape[::-1]\n",
    "    new_size = orig_size*(np.array(orig_spacing)/np.array(new_spacing))\n",
    "    new_size = np.ceil(new_size).astype(np.int) #  Image dimensions are in integers\n",
    "    new_size = [int(s) for s in new_size]\n",
    "    resample.SetSize(new_size)\n",
    "    new_image_sitk = resample.Execute(image_sitk)\n",
    "    new_image = sitk.GetArrayFromImage(new_image_sitk)  # Convert to numpy\n",
    "    return new_image\n",
    "\n",
    "#resmaple using ndimage\n",
    "def resize_ndimage(image,xy_spacing,z_spacing,out_xy_spacing=1,out_z_spacing=1,order=1):\n",
    "    zoom_xy = xy_spacing/out_xy_spacing\n",
    "    zoom_z = z_spacing/out_z_spacing\n",
    "    zoom_factor = (zoom_z,zoom_xy,zoom_xy)\n",
    "    new_volume = ndimage.zoom(image,zoom_factor,order=order)\n",
    "    \n",
    "    return new_volume\n",
    "\n",
    "def resize_ct_volume(ct_volume, xy_spacing, z_spacing, out_xy_spacing=1, out_z_spacing=1):\n",
    "    \"\"\"\n",
    "    Arguments:\n",
    "    ct_volume -- the 3D image of a CT scan\n",
    "    xy_spacing -- original xy spacing of the scan\n",
    "    z_spacing -- original z spacing of the scan\n",
    "    out_xy_spacing -- xy spacing of the target volume\n",
    "    out_z_spacing -- z spacing of the target volume\n",
    "    \n",
    "    Returns:\n",
    "    new_volume -- the target volume \n",
    "    \"\"\"\n",
    "    \n",
    "    # YOUR CODE HERE\n",
    "    new_volume = resize_ndimage(ct_volume,xy_spacing,z_spacing,out_xy_spacing=1,out_z_spacing=1,order=1)\n",
    "    \n",
    "    # alternative resizing using simple itk - but this looks slower\n",
    "    #new_volume = resize_sitk(ct_volume,xy_spacing,z_spacing,out_xy_spacing,out_z_spacing=1,order=1)\n",
    "    \n",
    "    return new_volume\n",
    "\n",
    "\n",
    "def resize_annotation(mask, xy_spacing, z_spacing, out_xy_spacing=1, out_z_spacing=1):\n",
    "    \"\"\"\n",
    "    Arguments:\n",
    "    mask -- the 3D multi-class annotation mask of a CT scan\n",
    "    xy_spacing -- original xy spacing of the mask\n",
    "    z_spacing -- original z spacing of the mask\n",
    "    out_xy_spacing -- xy spacing of the target mask\n",
    "    out_z_spacing -- z spacing of the target mask\n",
    "    \n",
    "    Returns:\n",
    "    new_mask -- the target mask\n",
    "    \"\"\"\n",
    "    \n",
    "    # YOUR CODE HERE\n",
    "    \n",
    "    new_mask = resize_ndimage(mask,xy_spacing,z_spacing,out_xy_spacing=1,out_z_spacing=1,order=0)\n",
    "    \n",
    "    # alternative resizing using simple itk - but this looks slower\n",
    "    #new_volume = resize_sitk(ct_volume,xy_spacing,z_spacing,out_xy_spacing,out_z_spacing=1,order=0)\n",
    "        \n",
    "    return new_mask\n",
    "\n",
    "# Average timings over several repeats \n",
    "nrepeat = 10\n",
    "dt_ct = 0\n",
    "dt_annotation = 0\n",
    "\n",
    "out_xy_spacing =1\n",
    "out_z_spacing = 1\n",
    "for _ in range(nrepeat):\n",
    "    t0=time.time()\n",
    "    new_volume = resize_ct_volume(ct_volume, xy_spacing, z_spacing,\n",
    "                                  out_xy_spacing = out_xy_spacing,\n",
    "                                  out_z_spacing = out_z_spacing)\n",
    "    t1=time.time()\n",
    "    new_mask = resize_annotation(mask, xy_spacing, z_spacing, \n",
    "                                 out_xy_spacing = out_xy_spacing,\n",
    "                                 out_z_spacing = out_z_spacing)\n",
    "    t2=time.time()\n",
    "    dt_ct += t1-t0\n",
    "    dt_annotation += t2-t1\n",
    "dt_ct = dt_ct/nrepeat\n",
    "dt_annotation = dt_annotation/nrepeat\n",
    "    \n",
    "print(f'CT resample timing {1000*dt_ct:4.1f} ms.')\n",
    "print(f'Annotation resample timing {1000*dt_annotation:4.1f} ms.')\n",
    "\n",
    "    \n",
    "fig, axs = plt.subplots(1,2)\n",
    "axs[0].imshow(new_volume[:,:,102],cmap='gray')\n",
    "axs[1].imshow(new_mask[:,:,102])\n"
   ]
  },
  {
   "cell_type": "markdown",
   "metadata": {},
   "source": [
    "<img src='./vis/original_vs_isotropic.png'>\n",
    "<caption><center>The original image and the resized result of one sample slice in the sagittal view</center></caption>"
   ]
  },
  {
   "cell_type": "markdown",
   "metadata": {},
   "source": [
    "## 1.3 - 3D visualization\n",
    "Now you have the resized ct volume and the annotation mask, could you come up with any way(s) to inspect the data in 3D?\n",
    "- Run the cell below to see an example generated with Plotly in which the contour points on each slice are plotted for each annotated structure\n",
    "- Note that since the origin lies at the bottom in this visualization, the mask has been reversed in z axis so that the heart doesn't look upside down\n",
    "- You can either visualize the ct volume or the annotation mask, or both. You can also replicate the example provided"
   ]
  },
  {
   "cell_type": "code",
   "execution_count": 35,
   "metadata": {
    "tags": []
   },
   "outputs": [
    {
     "data": {
      "text/html": [
       "\n",
       "        <iframe\n",
       "            width=\"700\"\n",
       "            height=\"600\"\n",
       "            src=\"./vis/3D_vis.html\"\n",
       "            frameborder=\"0\"\n",
       "            allowfullscreen\n",
       "        ></iframe>\n",
       "        "
      ],
      "text/plain": [
       "<IPython.lib.display.IFrame at 0x7f3d5f1f1ef0>"
      ]
     },
     "execution_count": 35,
     "metadata": {},
     "output_type": "execute_result"
    }
   ],
   "source": [
    "IFrame(src='./vis/3D_vis.html', width=700, height=600)"
   ]
  },
  {
   "cell_type": "code",
   "execution_count": 56,
   "metadata": {
    "tags": []
   },
   "outputs": [],
   "source": [
    "# YOUR VIS CODE AND OUTPUT HERE\n",
    "level = 250 # isosurface level to visualize\n",
    "from plotly.figure_factory import create_trisurf\n",
    "import numpy as np\n",
    "from skimage import measure\n",
    "out_spacing=[out_z_spacing,out_xy_spacing,out_xy_spacing]\n",
    "verts,faces,_,_ = measure.marching_cubes(new_volume[::-1,:,:],level = level,spacing=out_spacing,step_size=2)\n",
    "\n",
    "fig=create_trisurf(z=verts[:,0],y=verts[:,1],x=verts[:,2],colormap='Blues',simplices=faces,title='Cardiac CT')\n",
    "fig.write_html('demo.html')"
   ]
  },
  {
   "cell_type": "code",
   "execution_count": 57,
   "metadata": {},
   "outputs": [
    {
     "data": {
      "text/html": [
       "\n",
       "        <iframe\n",
       "            width=\"800\"\n",
       "            height=\"800\"\n",
       "            src=\"demo.html\"\n",
       "            frameborder=\"0\"\n",
       "            allowfullscreen\n",
       "        ></iframe>\n",
       "        "
      ],
      "text/plain": [
       "<IPython.lib.display.IFrame at 0x7f3d84ed6a58>"
      ]
     },
     "execution_count": 57,
     "metadata": {},
     "output_type": "execute_result"
    }
   ],
   "source": [
    "IFrame(src='demo.html', width=800, height=800)"
   ]
  },
  {
   "cell_type": "markdown",
   "metadata": {},
   "source": [
    "# 2 - Sum kernel\n",
    "Suppose we have a 2D image and would apply a simple kernel repeatedly with different sizes on it to take the sum of all pixels within the kernel. Write a function to efficiently calculate the sum. The image below shows an example image and kernels with different sizes in different colors.\n",
    "- The kernel will be defined by its upper left `(row1, col1)` and lower right corner `(row2, col2)`\n",
    "- Please complete the function in the cell below and add some test cases\n",
    "- Discuss the time and space complexity for the approach you take\n",
    "\n",
    "***Example:***\n",
    "```python\n",
    "image = np.array([[1, 2, 3], \n",
    "                  [4, 5, 6], \n",
    "                  [7, 8, 9]])\n",
    "\n",
    "query_image = Image(image)\n",
    "kernel_sum = query_image.calculate(0, 1, 1, 2) # kernel_sum = 2 + 3 + 5 + 6 = 16\n",
    "```"
   ]
  },
  {
   "cell_type": "markdown",
   "metadata": {},
   "source": [
    "<img src='./vis/sum_grid.jpeg'>"
   ]
  },
  {
   "cell_type": "code",
   "execution_count": 14,
   "metadata": {},
   "outputs": [],
   "source": [
    "# SUM KERNEL\n",
    "\n",
    "class Image:\n",
    "    \n",
    "    def __init__(self, image):\n",
    "        self.image = image\n",
    "        \n",
    "        # YOUR CODE HERE\n",
    "        # Here we assume the input is an array of integers, following the question examples.\n",
    "        # Assume all sums do not cause overflow using long long integer. \n",
    "        # Can be easily modified to long double output, if needed.\n",
    "    \n",
    "        # pre-process the arra - computer 2D commulative sum.\n",
    "        # Space complexity is O(N) where N is number of elements in image array\n",
    "        # Time complexity for pre-processing is O(N)\n",
    "        \n",
    "        self.cumsum2D = np.zeros((image.shape[0]+1, image.shape[1]+1), dtype = np.longlong)\n",
    "        self.cumsum2D[1:,1:] = image\n",
    "        self.cumsum2D = self.cumsum2D.cumsum(0).cumsum(1)\n",
    "\n",
    "    def calculate_kernel_sum(self, row1, col1, row2, col2):\n",
    "\n",
    "        # YOUR CODE HERE\n",
    "        # Time complexity for each kernel sum call is O(1).\n",
    "        \n",
    "        kernel_sum = ( self.cumsum2D[row2+1,col2+1] - self.cumsum2D[row1,col2+1] - \n",
    "                       self.cumsum2D[row2+1,col1] + self.cumsum2D[row1,col1] )\n",
    "\n",
    "        return kernel_sum"
   ]
  },
  {
   "cell_type": "code",
   "execution_count": 30,
   "metadata": {},
   "outputs": [
    {
     "name": "stderr",
     "output_type": "stream",
     "text": [
      "test_1 (__main__.Test) ... ok\n",
      "test_2 (__main__.Test) ... ok\n",
      "test_3 (__main__.Test) ... ok\n",
      "test_4 (__main__.Test) ... ok\n",
      "test_5 (__main__.Test) ... ok\n",
      "test_random (__main__.Test) ... ok\n",
      "\n",
      "----------------------------------------------------------------------\n",
      "Ran 6 tests in 0.020s\n",
      "\n",
      "OK\n"
     ]
    },
    {
     "data": {
      "text/plain": [
       "<unittest.main.TestProgram at 0x7f3d5f2c50b8>"
      ]
     },
     "execution_count": 30,
     "metadata": {},
     "output_type": "execute_result"
    }
   ],
   "source": [
    "    \n",
    "# Testing\n",
    "\n",
    "import unittest\n",
    "\n",
    "class Test(unittest.TestCase):\n",
    "    \n",
    "    def __init__(self,*args,**kwargs):\n",
    "        super().__init__(*args,**kwargs)\n",
    "        image = np.array([[1,2,3],[4,5,6],[7,8,9]],dtype=np.uint8)\n",
    "        self.kernel = Image(image)   \n",
    "    \n",
    "    def test_1(self):\n",
    "        kernel_sum = self.kernel.calculate_kernel_sum(0,0,0,0)\n",
    "        self.assertEqual(kernel_sum, 1)\n",
    "        \n",
    "    def test_2(self):\n",
    "        kernel_sum = self.kernel.calculate_kernel_sum(1,1,1,1)\n",
    "        self.assertEqual(kernel_sum, 5)\n",
    "        \n",
    "    def test_3(self):\n",
    "        kernel_sum = self.kernel.calculate_kernel_sum(2,2,2,2)\n",
    "        self.assertEqual(kernel_sum, 9)    \n",
    "        \n",
    "    def test_4(self):\n",
    "        kernel_sum = self.kernel.calculate_kernel_sum(0,0,2,2)\n",
    "        self.assertEqual(kernel_sum, 45)\n",
    "    \n",
    "    def test_5(self):\n",
    "        kernel_sum = self.kernel.calculate_kernel_sum(0,1,1,2)\n",
    "        self.assertEqual(kernel_sum, 16)\n",
    "        \n",
    "    def test_random(self):\n",
    "        np.random.seed(1)\n",
    "        image = np.random.randint(0,256,size=(512,512),dtype=np.uint8)\n",
    "        kernel = Image(image)\n",
    "        start_corner = np.random.randint(0,256,size = 2)\n",
    "        end_corner = np.empty(2,dtype=np.int)\n",
    "        end_corner[0] = np.random.randint(start_corner[0],512,1)\n",
    "        end_corner[1] = np.random.randint(start_corner[1],512,1)\n",
    "        for _ in range(100):\n",
    "            kernel_sum = kernel.calculate_kernel_sum(start_corner[0],start_corner[1],\n",
    "                                                     end_corner[0],end_corner[1])\n",
    "            self.assertEqual(kernel_sum, np.sum(image[start_corner[0]:end_corner[0]+1,\n",
    "                                                      start_corner[1]:end_corner[1]+1]))\n",
    "            \n",
    "unittest.main(argv=[''], verbosity=2, exit=False)\n",
    "    \n",
    "    "
   ]
  }
 ],
 "metadata": {
  "kernelspec": {
   "display_name": "Python 3",
   "language": "python",
   "name": "python3"
  },
  "language_info": {
   "codemirror_mode": {
    "name": "ipython",
    "version": 3
   },
   "file_extension": ".py",
   "mimetype": "text/x-python",
   "name": "python",
   "nbconvert_exporter": "python",
   "pygments_lexer": "ipython3",
   "version": "3.6.13"
  }
 },
 "nbformat": 4,
 "nbformat_minor": 4
}
